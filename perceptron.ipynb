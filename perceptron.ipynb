{
 "cells": [
  {
   "cell_type": "code",
   "execution_count": 1,
   "id": "2063344c-687e-4278-bde1-12d8403c52de",
   "metadata": {},
   "outputs": [
    {
     "name": "stdout",
     "output_type": "stream",
     "text": [
      "Requirement already satisfied: pandas in c:\\users\\raj\\anaconda3\\lib\\site-packages (2.2.2)\n",
      "Requirement already satisfied: matplotlib in c:\\users\\raj\\anaconda3\\lib\\site-packages (3.9.2)\n",
      "Requirement already satisfied: numpy in c:\\users\\raj\\anaconda3\\lib\\site-packages (1.26.4)\n",
      "Requirement already satisfied: python-dateutil>=2.8.2 in c:\\users\\raj\\anaconda3\\lib\\site-packages (from pandas) (2.9.0.post0)\n",
      "Requirement already satisfied: pytz>=2020.1 in c:\\users\\raj\\anaconda3\\lib\\site-packages (from pandas) (2024.1)\n",
      "Requirement already satisfied: tzdata>=2022.7 in c:\\users\\raj\\anaconda3\\lib\\site-packages (from pandas) (2023.3)\n",
      "Requirement already satisfied: contourpy>=1.0.1 in c:\\users\\raj\\anaconda3\\lib\\site-packages (from matplotlib) (1.2.0)\n",
      "Requirement already satisfied: cycler>=0.10 in c:\\users\\raj\\anaconda3\\lib\\site-packages (from matplotlib) (0.11.0)\n",
      "Requirement already satisfied: fonttools>=4.22.0 in c:\\users\\raj\\anaconda3\\lib\\site-packages (from matplotlib) (4.51.0)\n",
      "Requirement already satisfied: kiwisolver>=1.3.1 in c:\\users\\raj\\anaconda3\\lib\\site-packages (from matplotlib) (1.4.4)\n",
      "Requirement already satisfied: packaging>=20.0 in c:\\users\\raj\\anaconda3\\lib\\site-packages (from matplotlib) (24.1)\n",
      "Requirement already satisfied: pillow>=8 in c:\\users\\raj\\anaconda3\\lib\\site-packages (from matplotlib) (10.4.0)\n",
      "Requirement already satisfied: pyparsing>=2.3.1 in c:\\users\\raj\\anaconda3\\lib\\site-packages (from matplotlib) (3.1.2)\n",
      "Requirement already satisfied: six>=1.5 in c:\\users\\raj\\anaconda3\\lib\\site-packages (from python-dateutil>=2.8.2->pandas) (1.16.0)\n"
     ]
    }
   ],
   "source": [
    "# Perceptron\n",
    "!pip install pandas matplotlib numpy"
   ]
  },
  {
   "cell_type": "code",
   "execution_count": 6,
   "id": "ac3f6b27-d08f-4482-9ebf-5b15a32b8f0b",
   "metadata": {},
   "outputs": [],
   "source": [
    "import pandas as pd\n",
    "df= pd.read_csv(\"perceptron_toydata.txt\",sep=\"\\t\")"
   ]
  },
  {
   "cell_type": "code",
   "execution_count": 7,
   "id": "c49e3676-4e83-49be-bba8-b3695f598411",
   "metadata": {},
   "outputs": [
    {
     "data": {
      "text/html": [
       "<div>\n",
       "<style scoped>\n",
       "    .dataframe tbody tr th:only-of-type {\n",
       "        vertical-align: middle;\n",
       "    }\n",
       "\n",
       "    .dataframe tbody tr th {\n",
       "        vertical-align: top;\n",
       "    }\n",
       "\n",
       "    .dataframe thead th {\n",
       "        text-align: right;\n",
       "    }\n",
       "</style>\n",
       "<table border=\"1\" class=\"dataframe\">\n",
       "  <thead>\n",
       "    <tr style=\"text-align: right;\">\n",
       "      <th></th>\n",
       "      <th>0.77</th>\n",
       "      <th>-1.14</th>\n",
       "      <th>0</th>\n",
       "    </tr>\n",
       "  </thead>\n",
       "  <tbody>\n",
       "    <tr>\n",
       "      <th>0</th>\n",
       "      <td>-0.33</td>\n",
       "      <td>1.44</td>\n",
       "      <td>0</td>\n",
       "    </tr>\n",
       "    <tr>\n",
       "      <th>1</th>\n",
       "      <td>0.91</td>\n",
       "      <td>-3.07</td>\n",
       "      <td>0</td>\n",
       "    </tr>\n",
       "    <tr>\n",
       "      <th>2</th>\n",
       "      <td>-0.37</td>\n",
       "      <td>-1.91</td>\n",
       "      <td>0</td>\n",
       "    </tr>\n",
       "    <tr>\n",
       "      <th>3</th>\n",
       "      <td>-1.84</td>\n",
       "      <td>-1.13</td>\n",
       "      <td>0</td>\n",
       "    </tr>\n",
       "    <tr>\n",
       "      <th>4</th>\n",
       "      <td>-1.50</td>\n",
       "      <td>0.34</td>\n",
       "      <td>0</td>\n",
       "    </tr>\n",
       "    <tr>\n",
       "      <th>...</th>\n",
       "      <td>...</td>\n",
       "      <td>...</td>\n",
       "      <td>...</td>\n",
       "    </tr>\n",
       "    <tr>\n",
       "      <th>94</th>\n",
       "      <td>0.71</td>\n",
       "      <td>2.27</td>\n",
       "      <td>1</td>\n",
       "    </tr>\n",
       "    <tr>\n",
       "      <th>95</th>\n",
       "      <td>1.96</td>\n",
       "      <td>0.83</td>\n",
       "      <td>1</td>\n",
       "    </tr>\n",
       "    <tr>\n",
       "      <th>96</th>\n",
       "      <td>2.52</td>\n",
       "      <td>1.83</td>\n",
       "      <td>1</td>\n",
       "    </tr>\n",
       "    <tr>\n",
       "      <th>97</th>\n",
       "      <td>2.77</td>\n",
       "      <td>2.82</td>\n",
       "      <td>1</td>\n",
       "    </tr>\n",
       "    <tr>\n",
       "      <th>98</th>\n",
       "      <td>4.16</td>\n",
       "      <td>3.34</td>\n",
       "      <td>1</td>\n",
       "    </tr>\n",
       "  </tbody>\n",
       "</table>\n",
       "<p>99 rows × 3 columns</p>\n",
       "</div>"
      ],
      "text/plain": [
       "    0.77  -1.14  0\n",
       "0  -0.33   1.44  0\n",
       "1   0.91  -3.07  0\n",
       "2  -0.37  -1.91  0\n",
       "3  -1.84  -1.13  0\n",
       "4  -1.50   0.34  0\n",
       "..   ...    ... ..\n",
       "94  0.71   2.27  1\n",
       "95  1.96   0.83  1\n",
       "96  2.52   1.83  1\n",
       "97  2.77   2.82  1\n",
       "98  4.16   3.34  1\n",
       "\n",
       "[99 rows x 3 columns]"
      ]
     },
     "execution_count": 7,
     "metadata": {},
     "output_type": "execute_result"
    }
   ],
   "source": [
    "df"
   ]
  },
  {
   "cell_type": "code",
   "execution_count": 10,
   "id": "db0c9488-1e56-4485-b492-26275bee668f",
   "metadata": {},
   "outputs": [],
   "source": [
    "df=df.rename(columns={\"0.77\":\"x1\" , \"-1.14\":\"x2\",\"0\":\"target\"})"
   ]
  },
  {
   "cell_type": "code",
   "execution_count": 12,
   "id": "5b583326-ad65-48ee-9884-b749efd42626",
   "metadata": {},
   "outputs": [
    {
     "data": {
      "text/html": [
       "<div>\n",
       "<style scoped>\n",
       "    .dataframe tbody tr th:only-of-type {\n",
       "        vertical-align: middle;\n",
       "    }\n",
       "\n",
       "    .dataframe tbody tr th {\n",
       "        vertical-align: top;\n",
       "    }\n",
       "\n",
       "    .dataframe thead th {\n",
       "        text-align: right;\n",
       "    }\n",
       "</style>\n",
       "<table border=\"1\" class=\"dataframe\">\n",
       "  <thead>\n",
       "    <tr style=\"text-align: right;\">\n",
       "      <th></th>\n",
       "      <th>x1</th>\n",
       "      <th>x2</th>\n",
       "      <th>target</th>\n",
       "    </tr>\n",
       "  </thead>\n",
       "  <tbody>\n",
       "    <tr>\n",
       "      <th>0</th>\n",
       "      <td>-0.33</td>\n",
       "      <td>1.44</td>\n",
       "      <td>0</td>\n",
       "    </tr>\n",
       "    <tr>\n",
       "      <th>1</th>\n",
       "      <td>0.91</td>\n",
       "      <td>-3.07</td>\n",
       "      <td>0</td>\n",
       "    </tr>\n",
       "    <tr>\n",
       "      <th>2</th>\n",
       "      <td>-0.37</td>\n",
       "      <td>-1.91</td>\n",
       "      <td>0</td>\n",
       "    </tr>\n",
       "    <tr>\n",
       "      <th>3</th>\n",
       "      <td>-1.84</td>\n",
       "      <td>-1.13</td>\n",
       "      <td>0</td>\n",
       "    </tr>\n",
       "    <tr>\n",
       "      <th>4</th>\n",
       "      <td>-1.50</td>\n",
       "      <td>0.34</td>\n",
       "      <td>0</td>\n",
       "    </tr>\n",
       "    <tr>\n",
       "      <th>...</th>\n",
       "      <td>...</td>\n",
       "      <td>...</td>\n",
       "      <td>...</td>\n",
       "    </tr>\n",
       "    <tr>\n",
       "      <th>94</th>\n",
       "      <td>0.71</td>\n",
       "      <td>2.27</td>\n",
       "      <td>1</td>\n",
       "    </tr>\n",
       "    <tr>\n",
       "      <th>95</th>\n",
       "      <td>1.96</td>\n",
       "      <td>0.83</td>\n",
       "      <td>1</td>\n",
       "    </tr>\n",
       "    <tr>\n",
       "      <th>96</th>\n",
       "      <td>2.52</td>\n",
       "      <td>1.83</td>\n",
       "      <td>1</td>\n",
       "    </tr>\n",
       "    <tr>\n",
       "      <th>97</th>\n",
       "      <td>2.77</td>\n",
       "      <td>2.82</td>\n",
       "      <td>1</td>\n",
       "    </tr>\n",
       "    <tr>\n",
       "      <th>98</th>\n",
       "      <td>4.16</td>\n",
       "      <td>3.34</td>\n",
       "      <td>1</td>\n",
       "    </tr>\n",
       "  </tbody>\n",
       "</table>\n",
       "<p>99 rows × 3 columns</p>\n",
       "</div>"
      ],
      "text/plain": [
       "      x1    x2  target\n",
       "0  -0.33  1.44       0\n",
       "1   0.91 -3.07       0\n",
       "2  -0.37 -1.91       0\n",
       "3  -1.84 -1.13       0\n",
       "4  -1.50  0.34       0\n",
       "..   ...   ...     ...\n",
       "94  0.71  2.27       1\n",
       "95  1.96  0.83       1\n",
       "96  2.52  1.83       1\n",
       "97  2.77  2.82       1\n",
       "98  4.16  3.34       1\n",
       "\n",
       "[99 rows x 3 columns]"
      ]
     },
     "execution_count": 12,
     "metadata": {},
     "output_type": "execute_result"
    }
   ],
   "source": [
    "df"
   ]
  },
  {
   "cell_type": "code",
   "execution_count": 14,
   "id": "74d478f1-bc70-4f29-8256-37cbce3e82c1",
   "metadata": {},
   "outputs": [],
   "source": [
    "x_train=df[[\"x1\",\"x2\"]].values"
   ]
  },
  {
   "cell_type": "code",
   "execution_count": 16,
   "id": "bdabbd5f-709d-4f00-83b7-90d226b63b7c",
   "metadata": {},
   "outputs": [],
   "source": [
    "y_train=df[\"target\"].values"
   ]
  },
  {
   "cell_type": "code",
   "execution_count": 18,
   "id": "fb92e057-30b7-4caa-8fa7-20a28ffbbf03",
   "metadata": {},
   "outputs": [
    {
     "data": {
      "text/plain": [
       "array([[-0.33,  1.44],\n",
       "       [ 0.91, -3.07],\n",
       "       [-0.37, -1.91],\n",
       "       [-1.84, -1.13],\n",
       "       [-1.5 ,  0.34],\n",
       "       [-0.63, -1.53],\n",
       "       [-1.08, -1.23],\n",
       "       [ 0.39, -1.99],\n",
       "       [-1.26, -2.9 ],\n",
       "       [-5.27, -0.78],\n",
       "       [-0.49, -2.74],\n",
       "       [ 1.48, -3.74],\n",
       "       [-1.64, -1.96],\n",
       "       [ 0.45,  0.36],\n",
       "       [-1.48, -1.17],\n",
       "       [-2.94, -4.47],\n",
       "       [-2.19, -1.48],\n",
       "       [ 0.02, -0.02],\n",
       "       [-2.24, -2.12],\n",
       "       [-3.17, -3.69],\n",
       "       [-4.09,  1.03],\n",
       "       [-2.41, -2.31],\n",
       "       [-3.45, -0.61],\n",
       "       [-3.96, -2.  ],\n",
       "       [-2.95, -1.16],\n",
       "       [-2.42, -3.35],\n",
       "       [-1.74, -1.1 ],\n",
       "       [-1.61, -1.28],\n",
       "       [-2.59, -2.21],\n",
       "       [-2.64, -2.2 ],\n",
       "       [-2.84, -4.12],\n",
       "       [-1.45, -2.26],\n",
       "       [-3.98, -1.05],\n",
       "       [-2.97, -1.63],\n",
       "       [-0.68, -1.52],\n",
       "       [-0.1 , -3.43],\n",
       "       [-1.14, -2.66],\n",
       "       [-2.92, -2.51],\n",
       "       [-2.14, -1.62],\n",
       "       [-3.33, -0.44],\n",
       "       [-1.05, -3.85],\n",
       "       [ 0.38,  0.95],\n",
       "       [-0.05, -1.95],\n",
       "       [-3.2 , -0.22],\n",
       "       [-2.26,  0.01],\n",
       "       [-1.41, -0.33],\n",
       "       [-1.2 , -0.71],\n",
       "       [-1.69,  0.8 ],\n",
       "       [-1.52, -1.14],\n",
       "       [ 3.88,  0.65],\n",
       "       [ 0.73,  2.97],\n",
       "       [ 0.83,  3.94],\n",
       "       [ 1.59,  1.25],\n",
       "       [ 3.92,  3.48],\n",
       "       [ 3.87,  2.91],\n",
       "       [ 1.14,  3.91],\n",
       "       [ 1.73,  2.8 ],\n",
       "       [ 2.95,  1.84],\n",
       "       [ 2.61,  2.92],\n",
       "       [ 2.38,  0.9 ],\n",
       "       [ 2.3 ,  3.33],\n",
       "       [ 1.31,  1.85],\n",
       "       [ 1.56,  3.85],\n",
       "       [ 2.67,  2.41],\n",
       "       [ 1.23,  2.54],\n",
       "       [ 1.33,  2.03],\n",
       "       [ 1.36,  2.68],\n",
       "       [ 2.58,  1.79],\n",
       "       [ 2.4 ,  0.91],\n",
       "       [ 0.51,  2.44],\n",
       "       [ 2.17,  2.64],\n",
       "       [ 4.38,  2.94],\n",
       "       [ 1.09,  3.12],\n",
       "       [ 0.68,  1.54],\n",
       "       [ 1.93,  3.71],\n",
       "       [ 1.26,  1.17],\n",
       "       [ 1.9 ,  1.34],\n",
       "       [ 3.13,  0.92],\n",
       "       [ 0.85,  1.56],\n",
       "       [ 1.5 ,  3.93],\n",
       "       [ 2.95,  2.09],\n",
       "       [ 0.77,  2.84],\n",
       "       [ 1.  ,  0.46],\n",
       "       [ 3.19,  2.32],\n",
       "       [ 2.92,  2.32],\n",
       "       [ 2.86,  1.35],\n",
       "       [ 0.97,  2.68],\n",
       "       [ 1.2 ,  1.31],\n",
       "       [ 1.54,  2.02],\n",
       "       [ 1.65,  0.63],\n",
       "       [ 1.36, -0.22],\n",
       "       [ 2.63,  0.4 ],\n",
       "       [ 0.9 ,  2.05],\n",
       "       [ 1.26,  3.54],\n",
       "       [ 0.71,  2.27],\n",
       "       [ 1.96,  0.83],\n",
       "       [ 2.52,  1.83],\n",
       "       [ 2.77,  2.82],\n",
       "       [ 4.16,  3.34]])"
      ]
     },
     "execution_count": 18,
     "metadata": {},
     "output_type": "execute_result"
    }
   ],
   "source": [
    "x_train"
   ]
  },
  {
   "cell_type": "code",
   "execution_count": 20,
   "id": "f724facd-e399-4a48-b1fe-6e0ad0aeb5a9",
   "metadata": {},
   "outputs": [
    {
     "data": {
      "text/plain": [
       "(99, 2)"
      ]
     },
     "execution_count": 20,
     "metadata": {},
     "output_type": "execute_result"
    }
   ],
   "source": [
    "x_train.shape"
   ]
  },
  {
   "cell_type": "code",
   "execution_count": 22,
   "id": "567da59d-21b5-4b33-a6d8-414e52c30641",
   "metadata": {},
   "outputs": [
    {
     "data": {
      "text/plain": [
       "array([0, 0, 0, 0, 0, 0, 0, 0, 0, 0, 0, 0, 0, 0, 0, 0, 0, 0, 0, 0, 0, 0,\n",
       "       0, 0, 0, 0, 0, 0, 0, 0, 0, 0, 0, 0, 0, 0, 0, 0, 0, 0, 0, 0, 0, 0,\n",
       "       0, 0, 0, 0, 0, 1, 1, 1, 1, 1, 1, 1, 1, 1, 1, 1, 1, 1, 1, 1, 1, 1,\n",
       "       1, 1, 1, 1, 1, 1, 1, 1, 1, 1, 1, 1, 1, 1, 1, 1, 1, 1, 1, 1, 1, 1,\n",
       "       1, 1, 1, 1, 1, 1, 1, 1, 1, 1, 1], dtype=int64)"
      ]
     },
     "execution_count": 22,
     "metadata": {},
     "output_type": "execute_result"
    }
   ],
   "source": [
    "y_train"
   ]
  },
  {
   "cell_type": "code",
   "execution_count": 24,
   "id": "b636eca7-2fde-40e5-ab6d-4d5291332604",
   "metadata": {},
   "outputs": [],
   "source": [
    "import numpy as np\n",
    "# np.bincount(y_train)"
   ]
  },
  {
   "cell_type": "code",
   "execution_count": 26,
   "id": "6afc6491-041d-43d4-b5e7-10f77367c47b",
   "metadata": {},
   "outputs": [],
   "source": [
    "import matplotlib.pyplot as plt"
   ]
  },
  {
   "cell_type": "code",
   "execution_count": 28,
   "id": "a4a3653f-e5a2-4c34-9838-67f35ae59a8d",
   "metadata": {},
   "outputs": [
    {
     "data": {
      "text/plain": [
       "<function matplotlib.pyplot.show(close=None, block=None)>"
      ]
     },
     "execution_count": 28,
     "metadata": {},
     "output_type": "execute_result"
    },
    {
     "data": {
      "image/png": "[encoded data removed]",
      "text/plain": [
       "<Figure size 640x480 with 1 Axes>"
      ]
     },
     "metadata": {},
     "output_type": "display_data"
    }
   ],
   "source": [
    "plt.plot(\n",
    "    x_train[y_train==0, 0],  # first column of class 0\n",
    "    x_train[y_train==0, 1],  # second column of class 0\n",
    "    marker=\"D\",\n",
    "    markersize=10,\n",
    "    linestyle=\"\",\n",
    "    label=\"class 0\"\n",
    "      ) \n",
    "\n",
    "\n",
    "plt.plot(\n",
    "    x_train[y_train==1,0],\n",
    "    x_train[y_train==1,1],\n",
    "    marker=\"^\",\n",
    "    markersize=13,\n",
    "    linestyle=\"\",\n",
    "    label=\"class 1\"\n",
    "    \n",
    "      )\n",
    "\n",
    "plt.legend(loc=2)\n",
    "\n",
    "plt.xlim(-5,5)\n",
    "plt.ylim(-5,5)\n",
    "\n",
    "plt.xlabel(\"feature $x_1$\",fontsize=12)\n",
    "plt.ylabel(\"feature $x_2$\",fontsize=12)\n",
    "\n",
    "plt.grid\n",
    "plt.show\n",
    "    \n",
    "    \n",
    "    "
   ]
  },
  {
   "cell_type": "code",
   "execution_count": 67,
   "id": "8d6fb8e9-40f9-430f-af73-c9a37f57acee",
   "metadata": {},
   "outputs": [],
   "source": [
    "class Perceptron:\n",
    "    def __init__(self,n_features):\n",
    "        self.features=n_features\n",
    "        self.weights=[0.0 for _ in range(n_features)]\n",
    "        self.bias=0.0\n",
    "    def forward("
   ]
  },
  {
   "cell_type": "code",
   "execution_count": 69,
   "id": "4226e563-a567-48da-8420-af3ff3d7f605",
   "metadata": {},
   "outputs": [],
   "source": [
    "test= Perceptron(n_features=2)"
   ]
  },
  {
   "cell_type": "code",
   "execution_count": 71,
   "id": "adea609c-def0-4a59-932a-76ff8c32a4c6",
   "metadata": {},
   "outputs": [
    {
     "data": {
      "text/plain": [
       "[0.0, 0.0]"
      ]
     },
     "execution_count": 71,
     "metadata": {},
     "output_type": "execute_result"
    }
   ],
   "source": [
    "test.weights"
   ]
  },
  {
   "cell_type": "code",
   "execution_count": 73,
   "id": "537d9ed7-c76c-473a-8d8a-128e5b548ddc",
   "metadata": {},
   "outputs": [
    {
     "data": {
      "text/plain": [
       "0.0"
      ]
     },
     "execution_count": 73,
     "metadata": {},
     "output_type": "execute_result"
    }
   ],
   "source": [
    "test.bias"
   ]
  },
  {
   "cell_type": "code",
   "execution_count": 87,
   "id": "2683bdab-44c8-441e-b1b7-a83b8b1e1249",
   "metadata": {},
   "outputs": [],
   "source": [
    "class Perceptron:\n",
    "    def __init__(self,n_features):\n",
    "        self.features=n_features\n",
    "        self.weights=[0.0 for _ in range(n_features)]\n",
    "        self.bias=0.0\n",
    "    def forward(self,x):\n",
    "        sum_z=self.bias\n",
    "        for i,_ in enumerate(self.weights):\n",
    "            sum_z += x[i] * self.weights[i]\n",
    "        if sum_z>0:\n",
    "            prediction=1\n",
    "        else:\n",
    "            prediction=0\n",
    "        return prediction"
   ]
  },
  {
   "cell_type": "code",
   "execution_count": 89,
   "id": "f80c1147-2a5b-43ca-9957-b4e5f5b56fa3",
   "metadata": {},
   "outputs": [
    {
     "data": {
      "text/plain": [
       "0"
      ]
     },
     "execution_count": 89,
     "metadata": {},
     "output_type": "execute_result"
    }
   ],
   "source": [
    "test= Perceptron(n_features=2)\n",
    "x=[1.1,1.2]\n",
    "test.forward(x)"
   ]
  },
  {
   "cell_type": "code",
   "execution_count": 109,
   "id": "2a98d035-b217-4f55-96ab-bcd6fa6a20b3",
   "metadata": {},
   "outputs": [],
   "source": [
    "class Perceptron:\n",
    "    def __init__(self,n_features):\n",
    "        self.features=n_features\n",
    "        self.weights=[0.0 for _ in range(n_features)]\n",
    "        self.bias=0.0\n",
    "    def forward(self,x):\n",
    "        sum_z=self.bias\n",
    "        for i,_ in enumerate(self.weights):\n",
    "            sum_z += x[i] * self.weights[i]\n",
    "        if sum_z>0:\n",
    "            prediction=1\n",
    "        else:\n",
    "            prediction=0\n",
    "        return prediction\n",
    "    def update(self,x,true_y):\n",
    "        prediction= self.forward(x)\n",
    "        error= true_y - prediction\n",
    "        self.bias+=error\n",
    "        for i,_ in enumerate(self.weights):\n",
    "              self.weights[i] += error * x[i]  # ✅ correct\n",
    "        return error"
   ]
  },
  {
   "cell_type": "code",
   "execution_count": 111,
   "id": "4023a38d-2bc2-4d94-b8ff-25a10373f72f",
   "metadata": {},
   "outputs": [
    {
     "data": {
      "text/plain": [
       "1"
      ]
     },
     "execution_count": 111,
     "metadata": {},
     "output_type": "execute_result"
    }
   ],
   "source": [
    "test= Perceptron(n_features=2)\n",
    "x=[1.96,0.83]\n",
    "test.update(x,true_y=1)"
   ]
  },
  {
   "cell_type": "code",
   "execution_count": 157,
   "id": "7136f799-800d-4a33-b67d-99d231ef5fa6",
   "metadata": {},
   "outputs": [],
   "source": [
    "  def train(model,all_x,all_y,epochs):\n",
    "        \n",
    "        for epoch in range(epochs):\n",
    "            \n",
    "            error_count=0\n",
    "            for x,y in zip(all_x,all_y):\n",
    "                error=model.update(x,y)\n",
    "                error_count+=abs(error)\n",
    "                print(f\"epoch {epoch+1} errors {error_count}\")\n",
    "                "
   ]
  },
  {
   "cell_type": "code",
   "execution_count": 169,
   "id": "ee2e5f1c-ae37-4458-bbdf-0b4b62584727",
   "metadata": {},
   "outputs": [
    {
     "name": "stdout",
     "output_type": "stream",
     "text": [
      "epoch 1 errors 0\n",
      "epoch 1 errors 0\n",
      "epoch 1 errors 0\n",
      "epoch 1 errors 0\n",
      "epoch 1 errors 0\n",
      "epoch 1 errors 0\n",
      "epoch 1 errors 0\n",
      "epoch 1 errors 0\n",
      "epoch 1 errors 0\n",
      "epoch 1 errors 0\n",
      "epoch 1 errors 0\n",
      "epoch 1 errors 0\n",
      "epoch 1 errors 0\n",
      "epoch 1 errors 0\n",
      "epoch 1 errors 0\n",
      "epoch 1 errors 0\n",
      "epoch 1 errors 0\n",
      "epoch 1 errors 0\n",
      "epoch 1 errors 0\n",
      "epoch 1 errors 0\n",
      "epoch 1 errors 0\n",
      "epoch 1 errors 0\n",
      "epoch 1 errors 0\n",
      "epoch 1 errors 0\n",
      "epoch 1 errors 0\n",
      "epoch 1 errors 0\n",
      "epoch 1 errors 0\n",
      "epoch 1 errors 0\n",
      "epoch 1 errors 0\n",
      "epoch 1 errors 0\n",
      "epoch 1 errors 0\n",
      "epoch 1 errors 0\n",
      "epoch 1 errors 0\n",
      "epoch 1 errors 0\n",
      "epoch 1 errors 0\n",
      "epoch 1 errors 0\n",
      "epoch 1 errors 0\n",
      "epoch 1 errors 0\n",
      "epoch 1 errors 0\n",
      "epoch 1 errors 0\n",
      "epoch 1 errors 0\n",
      "epoch 1 errors 0\n",
      "epoch 1 errors 0\n",
      "epoch 1 errors 0\n",
      "epoch 1 errors 0\n",
      "epoch 1 errors 0\n",
      "epoch 1 errors 0\n",
      "epoch 1 errors 0\n",
      "epoch 1 errors 0\n",
      "epoch 1 errors 1\n",
      "epoch 1 errors 1\n",
      "epoch 1 errors 1\n",
      "epoch 1 errors 1\n",
      "epoch 1 errors 1\n",
      "epoch 1 errors 1\n",
      "epoch 1 errors 1\n",
      "epoch 1 errors 1\n",
      "epoch 1 errors 1\n",
      "epoch 1 errors 1\n",
      "epoch 1 errors 1\n",
      "epoch 1 errors 1\n",
      "epoch 1 errors 1\n",
      "epoch 1 errors 1\n",
      "epoch 1 errors 1\n",
      "epoch 1 errors 1\n",
      "epoch 1 errors 1\n",
      "epoch 1 errors 1\n",
      "epoch 1 errors 1\n",
      "epoch 1 errors 1\n",
      "epoch 1 errors 1\n",
      "epoch 1 errors 1\n",
      "epoch 1 errors 1\n",
      "epoch 1 errors 1\n",
      "epoch 1 errors 1\n",
      "epoch 1 errors 1\n",
      "epoch 1 errors 1\n",
      "epoch 1 errors 1\n",
      "epoch 1 errors 1\n",
      "epoch 1 errors 1\n",
      "epoch 1 errors 1\n",
      "epoch 1 errors 1\n",
      "epoch 1 errors 1\n",
      "epoch 1 errors 1\n",
      "epoch 1 errors 1\n",
      "epoch 1 errors 1\n",
      "epoch 1 errors 1\n",
      "epoch 1 errors 1\n",
      "epoch 1 errors 1\n",
      "epoch 1 errors 1\n",
      "epoch 1 errors 1\n",
      "epoch 1 errors 1\n",
      "epoch 1 errors 1\n",
      "epoch 1 errors 1\n",
      "epoch 1 errors 1\n",
      "epoch 1 errors 1\n",
      "epoch 1 errors 1\n",
      "epoch 1 errors 1\n",
      "epoch 1 errors 1\n",
      "epoch 1 errors 1\n",
      "epoch 2 errors 1\n",
      "epoch 2 errors 2\n",
      "epoch 2 errors 2\n",
      "epoch 2 errors 2\n",
      "epoch 2 errors 2\n",
      "epoch 2 errors 2\n",
      "epoch 2 errors 2\n",
      "epoch 2 errors 2\n",
      "epoch 2 errors 2\n",
      "epoch 2 errors 2\n",
      "epoch 2 errors 2\n",
      "epoch 2 errors 2\n",
      "epoch 2 errors 2\n",
      "epoch 2 errors 3\n",
      "epoch 2 errors 3\n",
      "epoch 2 errors 3\n",
      "epoch 2 errors 3\n",
      "epoch 2 errors 3\n",
      "epoch 2 errors 3\n",
      "epoch 2 errors 3\n",
      "epoch 2 errors 3\n",
      "epoch 2 errors 3\n",
      "epoch 2 errors 3\n",
      "epoch 2 errors 3\n",
      "epoch 2 errors 3\n",
      "epoch 2 errors 3\n",
      "epoch 2 errors 3\n",
      "epoch 2 errors 3\n",
      "epoch 2 errors 3\n",
      "epoch 2 errors 3\n",
      "epoch 2 errors 3\n",
      "epoch 2 errors 3\n",
      "epoch 2 errors 3\n",
      "epoch 2 errors 3\n",
      "epoch 2 errors 3\n",
      "epoch 2 errors 3\n",
      "epoch 2 errors 3\n",
      "epoch 2 errors 3\n",
      "epoch 2 errors 3\n",
      "epoch 2 errors 3\n",
      "epoch 2 errors 3\n",
      "epoch 2 errors 4\n",
      "epoch 2 errors 4\n",
      "epoch 2 errors 4\n",
      "epoch 2 errors 4\n",
      "epoch 2 errors 4\n",
      "epoch 2 errors 4\n",
      "epoch 2 errors 4\n",
      "epoch 2 errors 4\n",
      "epoch 2 errors 4\n",
      "epoch 2 errors 4\n",
      "epoch 2 errors 4\n",
      "epoch 2 errors 4\n",
      "epoch 2 errors 4\n",
      "epoch 2 errors 4\n",
      "epoch 2 errors 4\n",
      "epoch 2 errors 4\n",
      "epoch 2 errors 4\n",
      "epoch 2 errors 4\n",
      "epoch 2 errors 4\n",
      "epoch 2 errors 4\n",
      "epoch 2 errors 4\n",
      "epoch 2 errors 4\n",
      "epoch 2 errors 4\n",
      "epoch 2 errors 4\n",
      "epoch 2 errors 4\n",
      "epoch 2 errors 4\n",
      "epoch 2 errors 4\n",
      "epoch 2 errors 4\n",
      "epoch 2 errors 4\n",
      "epoch 2 errors 4\n",
      "epoch 2 errors 4\n",
      "epoch 2 errors 4\n",
      "epoch 2 errors 4\n",
      "epoch 2 errors 4\n",
      "epoch 2 errors 4\n",
      "epoch 2 errors 4\n",
      "epoch 2 errors 4\n",
      "epoch 2 errors 4\n",
      "epoch 2 errors 4\n",
      "epoch 2 errors 4\n",
      "epoch 2 errors 4\n",
      "epoch 2 errors 5\n",
      "epoch 2 errors 5\n",
      "epoch 2 errors 5\n",
      "epoch 2 errors 5\n",
      "epoch 2 errors 5\n",
      "epoch 2 errors 5\n",
      "epoch 2 errors 5\n",
      "epoch 2 errors 5\n",
      "epoch 2 errors 5\n",
      "epoch 2 errors 5\n",
      "epoch 2 errors 5\n",
      "epoch 2 errors 5\n",
      "epoch 2 errors 5\n",
      "epoch 2 errors 5\n",
      "epoch 2 errors 5\n",
      "epoch 2 errors 5\n",
      "epoch 2 errors 5\n",
      "epoch 3 errors 0\n",
      "epoch 3 errors 0\n",
      "epoch 3 errors 0\n",
      "epoch 3 errors 0\n",
      "epoch 3 errors 0\n",
      "epoch 3 errors 0\n",
      "epoch 3 errors 0\n",
      "epoch 3 errors 0\n",
      "epoch 3 errors 0\n",
      "epoch 3 errors 0\n",
      "epoch 3 errors 0\n",
      "epoch 3 errors 0\n",
      "epoch 3 errors 0\n",
      "epoch 3 errors 1\n",
      "epoch 3 errors 1\n",
      "epoch 3 errors 1\n",
      "epoch 3 errors 1\n",
      "epoch 3 errors 1\n",
      "epoch 3 errors 1\n",
      "epoch 3 errors 1\n",
      "epoch 3 errors 1\n",
      "epoch 3 errors 1\n",
      "epoch 3 errors 1\n",
      "epoch 3 errors 1\n",
      "epoch 3 errors 1\n",
      "epoch 3 errors 1\n",
      "epoch 3 errors 1\n",
      "epoch 3 errors 1\n",
      "epoch 3 errors 1\n",
      "epoch 3 errors 1\n",
      "epoch 3 errors 1\n",
      "epoch 3 errors 1\n",
      "epoch 3 errors 1\n",
      "epoch 3 errors 1\n",
      "epoch 3 errors 1\n",
      "epoch 3 errors 1\n",
      "epoch 3 errors 1\n",
      "epoch 3 errors 1\n",
      "epoch 3 errors 1\n",
      "epoch 3 errors 1\n",
      "epoch 3 errors 1\n",
      "epoch 3 errors 1\n",
      "epoch 3 errors 1\n",
      "epoch 3 errors 1\n",
      "epoch 3 errors 1\n",
      "epoch 3 errors 1\n",
      "epoch 3 errors 1\n",
      "epoch 3 errors 1\n",
      "epoch 3 errors 1\n",
      "epoch 3 errors 1\n",
      "epoch 3 errors 1\n",
      "epoch 3 errors 1\n",
      "epoch 3 errors 1\n",
      "epoch 3 errors 1\n",
      "epoch 3 errors 1\n",
      "epoch 3 errors 1\n",
      "epoch 3 errors 1\n",
      "epoch 3 errors 1\n",
      "epoch 3 errors 1\n",
      "epoch 3 errors 1\n",
      "epoch 3 errors 1\n",
      "epoch 3 errors 1\n",
      "epoch 3 errors 1\n",
      "epoch 3 errors 1\n",
      "epoch 3 errors 1\n",
      "epoch 3 errors 1\n",
      "epoch 3 errors 1\n",
      "epoch 3 errors 1\n",
      "epoch 3 errors 1\n",
      "epoch 3 errors 1\n",
      "epoch 3 errors 1\n",
      "epoch 3 errors 1\n",
      "epoch 3 errors 1\n",
      "epoch 3 errors 1\n",
      "epoch 3 errors 1\n",
      "epoch 3 errors 1\n",
      "epoch 3 errors 1\n",
      "epoch 3 errors 1\n",
      "epoch 3 errors 1\n",
      "epoch 3 errors 1\n",
      "epoch 3 errors 1\n",
      "epoch 3 errors 1\n",
      "epoch 3 errors 1\n",
      "epoch 3 errors 1\n",
      "epoch 3 errors 1\n",
      "epoch 3 errors 1\n",
      "epoch 3 errors 1\n",
      "epoch 3 errors 1\n",
      "epoch 3 errors 1\n",
      "epoch 3 errors 1\n",
      "epoch 3 errors 1\n",
      "epoch 3 errors 1\n",
      "epoch 3 errors 1\n",
      "epoch 3 errors 1\n",
      "epoch 3 errors 1\n",
      "epoch 3 errors 1\n",
      "epoch 3 errors 1\n",
      "epoch 3 errors 1\n",
      "epoch 3 errors 1\n"
     ]
    }
   ],
   "source": [
    "test= Perceptron(n_features=2)\n",
    "train(model=test,all_x=x_train,all_y=y_train,epochs=3)"
   ]
  },
  {
   "cell_type": "code",
   "execution_count": 171,
   "id": "4122490c-c6d0-4141-b2d6-dcd4531268aa",
   "metadata": {},
   "outputs": [],
   "source": [
    "def compute_accuracy(model,all_x,all_y):\n",
    "    correct= 0.0\n",
    "    for x,y in zip(all_x,all_y):\n",
    "        prediction=model.forward(x)\n",
    "        correct+=int(prediction==y)\n",
    "    return correct/len(all_y)"
   ]
  },
  {
   "cell_type": "code",
   "execution_count": 173,
   "id": "54e5ec84-6148-4bae-922f-5ed181199155",
   "metadata": {},
   "outputs": [
    {
     "data": {
      "text/plain": [
       "1.0"
      ]
     },
     "execution_count": 173,
     "metadata": {},
     "output_type": "execute_result"
    }
   ],
   "source": [
    "train_acc= compute_accuracy(model=test,all_x=x_train,all_y=y_train)\n",
    "train_acc"
   ]
  },
  {
   "cell_type": "code",
   "execution_count": 195,
   "id": "b3329ab8-c3d1-48a6-8938-8e1298a5729c",
   "metadata": {},
   "outputs": [],
   "source": [
    "def plot_boundary(model):\n",
    "    w1,w2=model.weights[0],model.weights[1]\n",
    "    b= model.bias\n",
    "\n",
    "    x1_min=-20\n",
    "    x2_min=(-(x1_min)*(w1)-b)/w2\n",
    "\n",
    "    x1_max=20\n",
    "    x2_max=(-(x1_max)*(w1)-b)/w2\n",
    "\n",
    "    return x1_min,x2_min,x1_max,x2_max"
   ]
  },
  {
   "cell_type": "code",
   "execution_count": 197,
   "id": "98e67da6-2283-4d73-a4f8-a86e7c7c28e6",
   "metadata": {},
   "outputs": [
    {
     "data": {
      "text/plain": [
       "<function matplotlib.pyplot.show(close=None, block=None)>"
      ]
     },
     "execution_count": 197,
     "metadata": {},
     "output_type": "execute_result"
    },
    {
     "data": {
      "image/png": "[encoded data removed]",
      "text/plain": [
       "<Figure size 640x480 with 1 Axes>"
      ]
     },
     "metadata": {},
     "output_type": "display_data"
    }
   ],
   "source": [
    "x1_min,x2_min,x1_max,x2_max=plot_boundary(test)\n",
    "\n",
    "plt.plot(\n",
    "    x_train[y_train==0, 0],  # first column of class 0\n",
    "    x_train[y_train==0, 1],  # second column of class 0\n",
    "    marker=\"D\",\n",
    "    markersize=10,\n",
    "    linestyle=\"\",\n",
    "    label=\"class 0\"\n",
    "      ) \n",
    "\n",
    "\n",
    "plt.plot(\n",
    "    x_train[y_train==1,0],\n",
    "    x_train[y_train==1,1],\n",
    "    marker=\"^\",\n",
    "    markersize=13,\n",
    "    linestyle=\"\",\n",
    "    label=\"class 1\"\n",
    "    \n",
    "      )\n",
    "\n",
    "plt.legend(loc=2)\n",
    "plt.plot([x1_min,x1_max],[x2_min,x2_max],color=\"k\")\n",
    "plt.xlim(-5,5)\n",
    "plt.ylim(-5,5)\n",
    "\n",
    "plt.xlabel(\"feature $x_1$\",fontsize=12)\n",
    "plt.ylabel(\"feature $x_2$\",fontsize=12)\n",
    "\n",
    "plt.grid\n",
    "plt.show\n",
    "    \n",
    "    \n",
    "    "
   ]
  },
  {
   "cell_type": "code",
   "execution_count": null,
   "id": "14c2681f-388a-4f76-bfbc-d0cf3694b53e",
   "metadata": {},
   "outputs": [],
   "source": []
  }
 ],
 "metadata": {
  "kernelspec": {
   "display_name": "Python [conda env:base] *",
   "language": "python",
   "name": "conda-base-py"
  },
  "language_info": {
   "codemirror_mode": {
    "name": "ipython",
    "version": 3
   },
   "file_extension": ".py",
   "mimetype": "text/x-python",
   "name": "python",
   "nbconvert_exporter": "python",
   "pygments_lexer": "ipython3",
   "version": "3.12.7"
  }
 },
 "nbformat": 4,
 "nbformat_minor": 5
}
